{
 "cells": [
  {
   "cell_type": "code",
   "execution_count": 1,
   "metadata": {},
   "outputs": [
    {
     "name": "stdout",
     "output_type": "stream",
     "text": [
      "Init AIPROXY env\n"
     ]
    },
    {
     "data": {
      "text/plain": [
       "<module 'openai' from '/Users/lingoace/Documents/GitHub/llm-101/venv/lib/python3.10/site-packages/openai/__init__.py'>"
      ]
     },
     "execution_count": 1,
     "metadata": {},
     "output_type": "execute_result"
    }
   ],
   "source": [
    "from app.init import init_llm\n",
    "init_llm(2)"
   ]
  },
  {
   "attachments": {},
   "cell_type": "markdown",
   "metadata": {},
   "source": [
    "## few-shot prompt\n",
    "docs: https://python.langchain.com/en/latest/modules/prompts/prompt_templates/examples/few_shot_examples.html\n",
    "\n",
    "\n",
    "> few-shot prompt: 少量的例子（3，5个）来帮助模型快速理解\n",
    "\n",
    "小样本提示可用于多种任务，包括翻译、问答和完形填空任务，提供的示例越多，模型执行任务的能力就越好。\n",
    "\n",
    "- 可以使用反例来帮助模型了解不该做什么\n",
    "\n",
    "use `FewShotPromptTemplate` class to craete a prompt template that uses **few-shot prompt**.\n",
    "\n",
    "此类要么接受一组示例，要么接受一个 ExampleSelector 对象\n",
    "\n",
    "ref:\n",
    "- https://www.allabtai.com/prompt-engineering-tips-zero-one-and-few-shot-prompting"
   ]
  },
  {
   "cell_type": "code",
   "execution_count": 2,
   "metadata": {},
   "outputs": [],
   "source": [
    "from langchain.prompts.few_shot import FewShotPromptTemplate\n",
    "from langchain.prompts.prompt import PromptTemplate\n",
    "\n",
    "examples = [\n",
    "  {\n",
    "    \"question\": \"谁的寿命更长，穆罕默德·阿里(Muhammad Ali)还是艾伦·图灵(Alan Turing)?\",\n",
    "    \"answer\": \"\"\"\n",
    "是否需要跟进问题：是的。\n",
    "跟进问题：穆罕默德·阿里去世时多少岁？\n",
    "中间回答：穆罕默德·阿里去世时74岁。\n",
    "跟进问题：艾伦·图灵去世时多少岁？\n",
    "中间回答：艾伦·图灵去世时41岁。\n",
    "因此最终回答是：穆罕默德·阿里\n",
    "\"\"\"\n",
    "  },\n",
    "  {\n",
    "    \"question\": \"craigslist的创始人是什么时候出生的？\",\n",
    "    \"answer\": \"\"\"\n",
    "是否需要跟进问题：是的。\n",
    "跟进问题：craigslist的创始人是谁？\n",
    "中间回答：craigslist的创始人是Craig Newmark。\n",
    "跟进问题：Craig Newmark是什么时候出生的？\n",
    "中间回答：Craig Newmark出生于1952年12月6日。\n",
    "因此最终回答是：1952年12月6日\n",
    "\"\"\"\n",
    "  },\n",
    "  {\n",
    "    \"question\": \"乔治·华盛顿(George Washington)的母亲的父亲是谁？\",\n",
    "    \"answer\": \"\"\"\n",
    "是否需要跟进问题：是的。\n",
    "跟进问题：乔治·华盛顿的母亲是谁？\n",
    "中间回答：乔治·华盛顿的母亲是玛丽·波尔·华盛顿（Mary Ball Washington）。\n",
    "跟进问题：玛丽·波尔·华盛顿的父亲是谁？\n",
    "中间回答：玛丽·波尔·华盛顿的父亲是约瑟夫·波尔（Joseph Ball）。\n",
    "因此最终回答是：约瑟夫·波尔\n",
    "\"\"\"\n",
    "  },\n",
    "  {\n",
    "    \"question\": \"Jaws和Casino Royale的导演都来自同一个国家吗？\",\n",
    "    \"answer\": \"\"\"\n",
    "是否需要跟进问题：是的。\n",
    "跟进问题：Jaws的导演是谁？\n",
    "中间回答：Jaws的导演是史蒂文·斯皮尔伯格（Steven Spielberg）。\n",
    "跟进问题：史蒂文·斯皮尔伯格来自哪里？\n",
    "中间回答：美国。\n",
    "跟进问题：Casino Royale的导演是谁？\n",
    "中间回答：Casino Royale的导演是马丁·坎贝尔（Martin Campbell）。\n",
    "跟进问题：马丁·坎贝尔来自哪里？\n",
    "中间回答：新西兰。\n",
    "因此最终回答是：不是\n",
    "\"\"\"\n",
    "  }\n",
    "]"
   ]
  },
  {
   "cell_type": "code",
   "execution_count": 9,
   "metadata": {},
   "outputs": [
    {
     "name": "stdout",
     "output_type": "stream",
     "text": [
      "Question: 谁的寿命更长，穆罕默德·阿里(Muhammad Ali)还是艾伦·图灵(Alan Turing)?\n",
      "\n",
      "是否需要跟进问题：是的。\n",
      "跟进问题：穆罕默德·阿里去世时多少岁？\n",
      "中间回答：穆罕默德·阿里去世时74岁。\n",
      "跟进问题：艾伦·图灵去世时多少岁？\n",
      "中间回答：艾伦·图灵去世时41岁。\n",
      "因此最终回答是：穆罕默德·阿里\n",
      "\n"
     ]
    }
   ],
   "source": [
    "# create a formatter for the few shot examplesa\n",
    "example_prompt = PromptTemplate(input_variables=[\"question\", \"answer\"], template=\"Question: {question}\\n{answer}\")\n",
    "print(example_prompt.format(**examples[0]))"
   ]
  },
  {
   "cell_type": "code",
   "execution_count": 12,
   "metadata": {},
   "outputs": [
    {
     "name": "stdout",
     "output_type": "stream",
     "text": [
      "请按照我的格式，帮我回答我的问题：\n",
      "\n",
      "Question: 谁的寿命更长，穆罕默德·阿里(Muhammad Ali)还是艾伦·图灵(Alan Turing)?\n",
      "\n",
      "是否需要跟进问题：是的。\n",
      "跟进问题：穆罕默德·阿里去世时多少岁？\n",
      "中间回答：穆罕默德·阿里去世时74岁。\n",
      "跟进问题：艾伦·图灵去世时多少岁？\n",
      "中间回答：艾伦·图灵去世时41岁。\n",
      "因此最终回答是：穆罕默德·阿里\n",
      "\n",
      "\n",
      "Question: craigslist的创始人是什么时候出生的？\n",
      "\n",
      "是否需要跟进问题：是的。\n",
      "跟进问题：craigslist的创始人是谁？\n",
      "中间回答：craigslist的创始人是Craig Newmark。\n",
      "跟进问题：Craig Newmark是什么时候出生的？\n",
      "中间回答：Craig Newmark出生于1952年12月6日。\n",
      "因此最终回答是：1952年12月6日\n",
      "\n",
      "\n",
      "Question: 乔治·华盛顿(George Washington)的母亲的父亲是谁？\n",
      "\n",
      "是否需要跟进问题：是的。\n",
      "跟进问题：乔治·华盛顿的母亲是谁？\n",
      "中间回答：乔治·华盛顿的母亲是玛丽·波尔·华盛顿（Mary Ball Washington）。\n",
      "跟进问题：玛丽·波尔·华盛顿的父亲是谁？\n",
      "中间回答：玛丽·波尔·华盛顿的父亲是约瑟夫·波尔（Joseph Ball）。\n",
      "因此最终回答是：约瑟夫·波尔\n",
      "\n",
      "\n",
      "Question: Jaws和Casino Royale的导演都来自同一个国家吗？\n",
      "\n",
      "是否需要跟进问题：是的。\n",
      "跟进问题：Jaws的导演是谁？\n",
      "中间回答：Jaws的导演是史蒂文·斯皮尔伯格（Steven Spielberg）。\n",
      "跟进问题：史蒂文·斯皮尔伯格来自哪里？\n",
      "中间回答：美国。\n",
      "跟进问题：Casino Royale的导演是谁？\n",
      "中间回答：Casino Royale的导演是马丁·坎贝尔（Martin Campbell）。\n",
      "跟进问题：马丁·坎贝尔来自哪里？\n",
      "中间回答：新西兰。\n",
      "因此最终回答是：不是\n",
      "\n",
      "\n",
      "Question: 谢霆锋和迈克尔杰克逊谁唱的 We are the world?\n"
     ]
    }
   ],
   "source": [
    "prompt = FewShotPromptTemplate(\n",
    "    examples=examples,\n",
    "    example_prompt=example_prompt,\n",
    "    prefix='请按照我的格式，帮我回答我的问题：',\n",
    "    suffix=\"Question: {input}\",\n",
    "    input_variables=[\"input\"]\n",
    ")\n",
    "\n",
    "s = prompt.format(input=\"谢霆锋和迈克尔杰克逊谁唱的 We are the world?\")\n",
    "print(s)"
   ]
  },
  {
   "cell_type": "code",
   "execution_count": 14,
   "metadata": {},
   "outputs": [
    {
     "name": "stdout",
     "output_type": "stream",
     "text": [
      "\n",
      "\n",
      "是否需要跟进问题：是的。\n",
      "跟进问题：We are the world是什么歌？\n",
      "中间回答：We are the world是一首由美国歌手米高梅·乔丹（Michael Jackson）和45位其他歌手共同演唱的歌曲。\n",
      "\n",
      "跟进问题：谢霆锋是否参与了这首歌的演唱？\n",
      "中间回答：不是。\n",
      "因此最终回答是：只有迈克尔杰克逊\n"
     ]
    }
   ],
   "source": [
    "from langchain.llms import OpenAI\n",
    "\n",
    "llm = OpenAI(temperature=0.2)\n",
    "print(llm(s))"
   ]
  },
  {
   "attachments": {},
   "cell_type": "markdown",
   "metadata": {},
   "source": [
    "可以测试下，few-shot prompt 用与不用的效果：\n",
    "\n",
    "![](https://limbo.oss-cn-beijing.aliyuncs.com/wiki/202306141123398.png)"
   ]
  },
  {
   "attachments": {},
   "cell_type": "markdown",
   "metadata": {},
   "source": [
    "### Feed example into `ExampleSelector`\n",
    "\n",
    "如果样例太多，可以用 `SemanticSimilarityExampleSelector`类。\n",
    "\n",
    "此类根据与输入的相似性选择少量few-shot示例。\n",
    "\n",
    "它使用嵌入模型来计算输入和few-shot示例之间的相似性，并使用向量存储来执行最近邻搜索。"
   ]
  },
  {
   "cell_type": "code",
   "execution_count": 15,
   "metadata": {},
   "outputs": [
    {
     "name": "stdout",
     "output_type": "stream",
     "text": [
      "Examples most similar to the input: 玛丽·波尔·华盛顿的父亲是谁？\n",
      "\n",
      "\n",
      "question: 乔治·华盛顿(George Washington)的母亲的父亲是谁？\n",
      "answer: \n",
      "是否需要跟进问题：是的。\n",
      "跟进问题：乔治·华盛顿的母亲是谁？\n",
      "中间回答：乔治·华盛顿的母亲是玛丽·波尔·华盛顿（Mary Ball Washington）。\n",
      "跟进问题：玛丽·波尔·华盛顿的父亲是谁？\n",
      "中间回答：玛丽·波尔·华盛顿的父亲是约瑟夫·波尔（Joseph Ball）。\n",
      "因此最终回答是：约瑟夫·波尔\n",
      "\n"
     ]
    }
   ],
   "source": [
    "from langchain.prompts.example_selector import SemanticSimilarityExampleSelector\n",
    "from langchain.vectorstores import Chroma\n",
    "from langchain.embeddings import OpenAIEmbeddings\n",
    "\n",
    "example_selector = SemanticSimilarityExampleSelector.from_examples(\n",
    "    examples,               # This is the list of examples available to select from.\n",
    "    OpenAIEmbeddings(),     # embeddings\n",
    "    Chroma,                 # vector store is used to store the embeddings and do a similarity search over.\n",
    "    k=1                     # k is the number of examples to select from.\n",
    ")\n",
    "\n",
    "# Select the most similar example to the input.\n",
    "question = \"玛丽·波尔·华盛顿的父亲是谁？\"\n",
    "selected_example = example_selector.select_examples({'question': question})\n",
    "\n",
    "print(f\"Examples most similar to the input: {question}\")\n",
    "\n",
    "for example in selected_example:\n",
    "    print(\"\\n\")\n",
    "    for k, v in example.items():\n",
    "        print(f\"{k}: {v}\")"
   ]
  },
  {
   "cell_type": "code",
   "execution_count": 17,
   "metadata": {},
   "outputs": [
    {
     "name": "stdout",
     "output_type": "stream",
     "text": [
      "请按照我的格式，帮我回答我的问题：\n",
      "\n",
      "Question: 乔治·华盛顿(George Washington)的母亲的父亲是谁？\n",
      "\n",
      "是否需要跟进问题：是的。\n",
      "跟进问题：乔治·华盛顿的母亲是谁？\n",
      "中间回答：乔治·华盛顿的母亲是玛丽·波尔·华盛顿（Mary Ball Washington）。\n",
      "跟进问题：玛丽·波尔·华盛顿的父亲是谁？\n",
      "中间回答：玛丽·波尔·华盛顿的父亲是约瑟夫·波尔（Joseph Ball）。\n",
      "因此最终回答是：约瑟夫·波尔\n",
      "\n",
      "\n",
      "Question: 玛丽·波尔·华盛顿的父亲是谁？\n"
     ]
    }
   ],
   "source": [
    "# feed example selector into FewShotPromptTemplate\n",
    "prompt = FewShotPromptTemplate(\n",
    "    example_prompt=example_prompt,\n",
    "    example_selector=example_selector,\n",
    "    prefix='请按照我的格式，帮我回答我的问题：',\n",
    "    suffix=\"Question: {input}\",\n",
    "    input_variables=[\"input\"]\n",
    ")\n",
    "\n",
    "s = prompt.format(input=\"玛丽·波尔·华盛顿的父亲是谁？\")\n",
    "print(s)"
   ]
  },
  {
   "cell_type": "code",
   "execution_count": 20,
   "metadata": {},
   "outputs": [
    {
     "name": "stdout",
     "output_type": "stream",
     "text": [
      "\n",
      "\n",
      "Answer: 玛丽·波尔·华盛顿的父亲是约瑟夫·波尔（Joseph Ball）。\n"
     ]
    }
   ],
   "source": [
    "# 多试几次，有时会按格式回答\n",
    "print(llm(s))"
   ]
  }
 ],
 "metadata": {
  "kernelspec": {
   "display_name": "Python 3 (ipykernel)",
   "language": "python",
   "name": "python3"
  },
  "language_info": {
   "codemirror_mode": {
    "name": "ipython",
    "version": 3
   },
   "file_extension": ".py",
   "mimetype": "text/x-python",
   "name": "python",
   "nbconvert_exporter": "python",
   "pygments_lexer": "ipython3",
   "version": "3.10.11"
  },
  "orig_nbformat": 4
 },
 "nbformat": 4,
 "nbformat_minor": 2
}
