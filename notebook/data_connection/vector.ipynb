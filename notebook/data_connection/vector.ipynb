{
 "cells": [
  {
   "attachments": {},
   "cell_type": "markdown",
   "metadata": {},
   "source": [
    "# Vector stores\n",
    "docs: https://python.langchain.com/docs/modules/data_connection/vectorstores/\n",
    "\n",
    "向量存储与查询\n",
    "\n",
    ">将非结构化数据转换为嵌入向量进行存储和检索是最常见的方式\n",
    "\n",
    ">储存嵌入向量，将未结构化的查询转换为嵌入向量，检索与查询最相似的嵌入向量。\n",
    "\n",
    ">向量库可以处理存储嵌入数据和进行向量搜索。\n",
    "\n",
    "\n",
    "常见的 vector database:\n",
    "\n",
    "- FAISS: Facebook AI Similarity Search (FAISS) library.\n",
    "- Chroma\n",
    "- Pinecone"
   ]
  },
  {
   "cell_type": "code",
   "execution_count": 1,
   "metadata": {},
   "outputs": [
    {
     "name": "stdout",
     "output_type": "stream",
     "text": [
      "Requirement already satisfied: faiss-cpu in /Users/pengfang/github/llm-101/venv/lib/python3.10/site-packages (1.7.4)\n",
      "\n",
      "\u001b[1m[\u001b[0m\u001b[34;49mnotice\u001b[0m\u001b[1;39;49m]\u001b[0m\u001b[39;49m A new release of pip available: \u001b[0m\u001b[31;49m22.2.2\u001b[0m\u001b[39;49m -> \u001b[0m\u001b[32;49m23.1.2\u001b[0m\n",
      "\u001b[1m[\u001b[0m\u001b[34;49mnotice\u001b[0m\u001b[1;39;49m]\u001b[0m\u001b[39;49m To update, run: \u001b[0m\u001b[32;49mpip install --upgrade pip\u001b[0m\n",
      "Note: you may need to restart the kernel to use updated packages.\n"
     ]
    }
   ],
   "source": [
    "%pip install faiss-cpu"
   ]
  },
  {
   "attachments": {},
   "cell_type": "markdown",
   "metadata": {},
   "source": [
    "## 核心方法使用\n",
    "- 创建向量数据库\n",
    "- 相似度查询\n"
   ]
  },
  {
   "cell_type": "code",
   "execution_count": null,
   "metadata": {},
   "outputs": [],
   "source": [
    "from langchain.embeddings.openai import OpenAIEmbeddings\n",
    "from langchain.vectorstores import FAISS\n",
    "\n",
    "# create vector store, xx.from_documents or xx.from_embeddings\n",
    "vector_store = FAISS.from_documents(documents=[], embedding=OpenAIEmbeddings())\n",
    "\n",
    "# Similarity search\n",
    "docs = vector_store.similarity_search(query='xxx')\n",
    "print(docs[0].page_content)\n",
    "\n",
    "# Similarity search by vector\n",
    "# docs = vector_store.similarity_search_by_vector(embeddings.embed_query(query))"
   ]
  },
  {
   "attachments": {},
   "cell_type": "markdown",
   "metadata": {},
   "source": [
    "## Ingegrations\n",
    "\n",
    "- Chroma: https://python.langchain.com/docs/modules/data_connection/vectorstores/integrations/chroma\n",
    "- Pinecone: https://python.langchain.com/docs/modules/data_connection/vectorstores/integrations/pinecone"
   ]
  }
 ],
 "metadata": {
  "kernelspec": {
   "display_name": "venv",
   "language": "python",
   "name": "python3"
  },
  "language_info": {
   "codemirror_mode": {
    "name": "ipython",
    "version": 3
   },
   "file_extension": ".py",
   "mimetype": "text/x-python",
   "name": "python",
   "nbconvert_exporter": "python",
   "pygments_lexer": "ipython3",
   "version": "3.10.8"
  },
  "orig_nbformat": 4
 },
 "nbformat": 4,
 "nbformat_minor": 2
}
