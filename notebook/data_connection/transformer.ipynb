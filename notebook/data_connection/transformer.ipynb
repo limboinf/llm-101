{
 "cells": [
  {
   "attachments": {},
   "cell_type": "markdown",
   "metadata": {},
   "source": [
    "# Document transformers\n",
    "docs:https://python.langchain.com/docs/modules/data_connection/document_transformers/\n",
    "\n",
    "摘要：\n",
    "- 加载文档后，用文档转换器对文档进行分割、合并、过滤和操作\n",
    "- 文本分割器允许根据自定义设置将文本分割成语义相关的块。\n",
    "- 推荐使用的默认文本分割器是RecursiveCharacterTextSplitter，可以根据字符进行拆分\n",
    "- 重要参数：chunk_size, chunk_overlap(块之间最大重叠)"
   ]
  },
  {
   "cell_type": "code",
   "execution_count": 1,
   "metadata": {},
   "outputs": [],
   "source": [
    "from langchain.text_splitter import RecursiveCharacterTextSplitter\n",
    "\n",
    "text_splitter = RecursiveCharacterTextSplitter(\n",
    "    chunk_size=100,         # 块的最大大小（由长度函数测量）\n",
    "    chunk_overlap=20,       # 块之间的最大重叠。有一些重叠可以很好地保持块之间的一些连续性（例如，做一个滑动窗口）\n",
    "    length_function=len,    # 如何计算块的长度。默认只计算字符数\n",
    "    add_start_index=True    # 是否在元数据中包含原始文档中每个块的起始位置\n",
    ")"
   ]
  },
  {
   "cell_type": "code",
   "execution_count": 5,
   "metadata": {},
   "outputs": [
    {
     "name": "stdout",
     "output_type": "stream",
     "text": [
      "2\n",
      "page_content='# llm-101\\nLLM learn notes and some demos\\n\\n## init\\n使用之前先 `make init` 有三个作用：' metadata={'start_index': 0}\n",
      "page_content='1. 安装虚拟环境（存在则跳过）\\n2. pip 安装\\n3. 将当前目录添加到`PYTHONPATH`环境变量中' metadata={'start_index': 76}\n"
     ]
    }
   ],
   "source": [
    "with open('../../README.md') as f:\n",
    "    t = f.read()\n",
    "\n",
    "text = text_splitter.create_documents([t])\n",
    "print(len(text))\n",
    "print(text[0])\n",
    "print(text[1])"
   ]
  },
  {
   "cell_type": "code",
   "execution_count": 10,
   "metadata": {},
   "outputs": [
    {
     "data": {
      "text/plain": [
       "[Document(page_content='# llm-101\\nLLM learn notes and some demos', metadata={}),\n",
       " Document(page_content='## init\\n使用之前先 `make init` 有三个作用：', metadata={}),\n",
       " Document(page_content='1. 安装虚拟环境（存在则跳过）\\n2. pip 安装', metadata={}),\n",
       " Document(page_content='3. 将当前目录添加到`PYTHONPATH`环境变量中', metadata={})]"
      ]
     },
     "execution_count": 10,
     "metadata": {},
     "output_type": "execute_result"
    }
   ],
   "source": [
    "# split code\n",
    "# https://python.langchain.com/docs/modules/data_connection/document_transformers/text_splitters/code_splitter\n",
    "\n",
    "from langchain.text_splitter import Language\n",
    "\n",
    "md_splitter = RecursiveCharacterTextSplitter.from_language(\n",
    "    language=Language.MARKDOWN,\n",
    "    chunk_size=50,\n",
    "    chunk_overlap=0,\n",
    ")\n",
    "\n",
    "md_docs = md_splitter.create_documents([t])\n",
    "md_docs"
   ]
  },
  {
   "attachments": {},
   "cell_type": "markdown",
   "metadata": {},
   "source": [
    "# split by tokens\n",
    "tiktoken是OpenAI的快速BPE分词器\n",
    "\n",
    "```python\n",
    "text_splitter = CharacterTextSplitter.from_tiktoken_encoder(\n",
    "    chunk_size=100, chunk_overlap=0\n",
    ")\n",
    "```"
   ]
  }
 ],
 "metadata": {
  "kernelspec": {
   "display_name": "venv",
   "language": "python",
   "name": "python3"
  },
  "language_info": {
   "codemirror_mode": {
    "name": "ipython",
    "version": 3
   },
   "file_extension": ".py",
   "mimetype": "text/x-python",
   "name": "python",
   "nbconvert_exporter": "python",
   "pygments_lexer": "ipython3",
   "version": "3.10.8"
  },
  "orig_nbformat": 4
 },
 "nbformat": 4,
 "nbformat_minor": 2
}
