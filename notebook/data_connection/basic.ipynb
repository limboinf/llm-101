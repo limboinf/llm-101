{
 "cells": [
  {
   "cell_type": "code",
   "execution_count": 1,
   "metadata": {},
   "outputs": [
    {
     "data": {
      "text/plain": [
       "[Document(page_content='## Data Connection\\n\\n重点：\\n\\n- `Document`\\n- langchain.document_loaders\\n\\n\\ndocs: https://python.langchain.com/docs/modules/data_connection/document_loaders/', metadata={'source': './readme.md'})]"
      ]
     },
     "execution_count": 1,
     "metadata": {},
     "output_type": "execute_result"
    }
   ],
   "source": [
    "from langchain.document_loaders import TextLoader\n",
    "\n",
    "loader = TextLoader('./readme.md')\n",
    "loader.load()"
   ]
  },
  {
   "cell_type": "code",
   "execution_count": 8,
   "metadata": {},
   "outputs": [
    {
     "name": "stderr",
     "output_type": "stream",
     "text": [
      "100%|██████████| 1/1 [00:00<00:00, 526.13it/s]"
     ]
    },
    {
     "name": "stdout",
     "output_type": "stream",
     "text": [
      "load 1 md file\n"
     ]
    },
    {
     "name": "stderr",
     "output_type": "stream",
     "text": [
      "\n"
     ]
    },
    {
     "data": {
      "text/plain": [
       "['../data_connection/readme.md']"
      ]
     },
     "execution_count": 8,
     "metadata": {},
     "output_type": "execute_result"
    }
   ],
   "source": [
    "# csv loader\n",
    "from langchain.document_loaders.csv_loader import CSVLoader\n",
    "\n",
    "# ------------------- File Direcotry -------------------\n",
    "# file directory, 默认情况下，此功能使用 UnstructuredLoader。\n",
    "from langchain.document_loaders import DirectoryLoader\n",
    "\n",
    "loader = DirectoryLoader(\n",
    "    '../', \n",
    "    glob='**/*.md', \n",
    "    show_progress=True, # if show a progress bar, need pip install tqdm\n",
    "    use_multithreading=True, # default single thread\n",
    "    loader_cls=TextLoader,  # default is UnstructuredLoader\n",
    "    loader_kwargs={'autodetect_encoding': True} # 将自动检测编码传递给加载器类，让TextLoader在失败之前自动检测文件编码。\n",
    ")\n",
    "\n",
    "docs = loader.load()\n",
    "print(f'load {len(docs)} md file')\n",
    "doc_sources = [doc.metadata['source'] for doc in docs]\n",
    "doc_sources\n",
    "# -------------------------------------------------------"
   ]
  },
  {
   "cell_type": "code",
   "execution_count": 15,
   "metadata": {},
   "outputs": [
    {
     "name": "stdout",
     "output_type": "stream",
     "text": [
      "Requirement already satisfied: pypdf in /Users/pengfang/github/llm-101/venv/lib/python3.10/site-packages (3.9.1)\n",
      "\n",
      "\u001b[1m[\u001b[0m\u001b[34;49mnotice\u001b[0m\u001b[1;39;49m]\u001b[0m\u001b[39;49m A new release of pip available: \u001b[0m\u001b[31;49m22.2.2\u001b[0m\u001b[39;49m -> \u001b[0m\u001b[32;49m23.1.2\u001b[0m\n",
      "\u001b[1m[\u001b[0m\u001b[34;49mnotice\u001b[0m\u001b[1;39;49m]\u001b[0m\u001b[39;49m To update, run: \u001b[0m\u001b[32;49mpip install --upgrade pip\u001b[0m\n",
      "Note: you may need to restart the kernel to use updated packages.\n",
      "Collecting pypdfium2\n",
      "  Downloading pypdfium2-4.15.0-py3-none-macosx_10_13_x86_64.whl (2.9 MB)\n",
      "\u001b[2K     \u001b[90m━━━━━━━━━━━━━━━━━━━━━━━━━━━━━━━━━━━━━━━━\u001b[0m \u001b[32m2.9/2.9 MB\u001b[0m \u001b[31m953.2 kB/s\u001b[0m eta \u001b[36m0:00:00\u001b[0m00:01\u001b[0m00:01\u001b[0m\n",
      "\u001b[?25hInstalling collected packages: pypdfium2\n",
      "Successfully installed pypdfium2-4.15.0\n",
      "\n",
      "\u001b[1m[\u001b[0m\u001b[34;49mnotice\u001b[0m\u001b[1;39;49m]\u001b[0m\u001b[39;49m A new release of pip available: \u001b[0m\u001b[31;49m22.2.2\u001b[0m\u001b[39;49m -> \u001b[0m\u001b[32;49m23.1.2\u001b[0m\n",
      "\u001b[1m[\u001b[0m\u001b[34;49mnotice\u001b[0m\u001b[1;39;49m]\u001b[0m\u001b[39;49m To update, run: \u001b[0m\u001b[32;49mpip install --upgrade pip\u001b[0m\n",
      "Note: you may need to restart the kernel to use updated packages.\n"
     ]
    },
    {
     "data": {
      "text/plain": [
       "Document(page_content=\"⽐特币：⼀种点对点的电⼦现⾦系统\\r\\n作者：中本聪 satoshin@gmx.com www.bitcoin.org 2008.10.31\\r\\n中⽂翻译：李笑来 lixiaolai@gmail.com 2018.10.31\\r\\nCheckout Github Repo for this translation\\r\\nAbstract. A purely peer-to-peer version of electronic cash would allow online payments to be\\r\\nsent directly from one party to another without going through a financial institution. Digital\\r\\nsignatures provide part of the solution, but the main benefits are lost if a trusted third party is\\r\\nstill required to prevent double-spending. We propose a solution to the double-spending\\r\\nproblem using a peer-to-peer network. The network timestamps transactions by hashing them\\r\\ninto an ongoing chain of hash-based proof-of-work, forming a record that cannot be changed\\r\\nwithout redoing the proof-of-work. The longest chain not only serves as proof of the sequence\\r\\nof events witnessed, but proof that it came from the largest pool of CPU power. As long as a\\r\\nmajority of CPU power is controlled by nodes that are not cooperating to attack the network,\\r\\nthey'll generate the longest chain and outpace attackers. The network itself requires minimal\\r\\nstructure. Messages are broadcast on a best effort basis, and nodes can leave and rejoin the\\r\\nnetwork at will, accepting the longest proof-of-work chain as proof of what happened while\\r\\nthey were gone.\\r\\n概要：⼀个纯粹的点对点版本的电⼦现⾦系统，将允许在线⽀付直接从⼀⽅发送到另⼀⽅，⽽⽆需通\\r\\n过⾦融机构。数字签名虽然提供了部分解决⽅案，但，若是仍然需要被信任的第三⽅来防⽌双重⽀出\\r\\n的话，那么电⼦⽀付的主要优势就被抵消了。我们提出⼀个⽅案，使⽤点对点⽹络去解决双重⽀出问\\r\\n题。点对点⽹络将为每笔交易标记时间戳，⽅法是：把交易的散列数据录⼊⼀个不断延展的、以散列\\r\\n为基础的⼯作证明链上，形成⼀个如⾮完全重做就不可能改变的记录。最⻓链，⼀⽅⾯⽤来证明已被\\r\\n⻅证的事件及其顺序，与此同时，也⽤来证明它来⾃于最⼤的 CPU 算⼒池。只要绝⼤多数 CPU 算⼒\\r\\n被良性节点控制 —— 即，它们不与那些尝试攻击⽹络的节点合作 —— 那么，良性节点将会⽣成最⻓\\r\\n链，并且在速度上超过攻击者。这个⽹络本身需要最⼩化的结构。信息将以最⼤努⼒为基本去传播，\\r\\n节点来去⾃由；但，加⼊之时总是需要接受最⻓的⼯作证明链作为它们未参与期间所发⽣之⼀切的证\\r\\n明。\\r\\n1. 简介 (Introduction)\\r\\nCommerce on the Internet has come to rely almost exclusively on financial institutions serving as\\r\\ntrusted third parties to process electronic payments. While the system works well enough for most\\r\\ntransactions, it still suffers from the inherent weaknesses of the trust based model. Completely non\\ufffereversible transactions are not really possible, since financial institutions cannot avoid mediating\\r\\ndisputes. The cost of mediation increases transaction costs, limiting the minimum practical\", metadata={'source': '../../example/docs/Bitcoin-Whitepaper-EN-CN.pdf', 'page': 0})"
      ]
     },
     "execution_count": 15,
     "metadata": {},
     "output_type": "execute_result"
    }
   ],
   "source": [
    "# pdf\n",
    "# docs: https://python.langchain.com/docs/modules/data_connection/document_loaders/how_to/pdf\n",
    "\n",
    "# PyPDFium2Loader 要比 PyPDFLoader 好些，特别是对中文的支持，PyPDFLoader会乱码\n",
    "# PyMuPDF 是PDF解析选项中最快的一种，并且包含有关PDF及其页面的详细元数据，每个页面将返回一个文档。\n",
    "%pip install pypdf\n",
    "%pip install pypdfium2\n",
    "from langchain.document_loaders import PyPDFLoader, OnlinePDFLoader, PyPDFium2Loader,PyMuPDFLoader\n",
    "\n",
    "loader = PyPDFium2Loader('../../example/docs/Bitcoin-Whitepaper-EN-CN.pdf')\n",
    "pages = loader.load_and_split()\n",
    "pages[0]"
   ]
  }
 ],
 "metadata": {
  "kernelspec": {
   "display_name": "venv",
   "language": "python",
   "name": "python3"
  },
  "language_info": {
   "codemirror_mode": {
    "name": "ipython",
    "version": 3
   },
   "file_extension": ".py",
   "mimetype": "text/x-python",
   "name": "python",
   "nbconvert_exporter": "python",
   "pygments_lexer": "ipython3",
   "version": "3.10.8"
  },
  "orig_nbformat": 4
 },
 "nbformat": 4,
 "nbformat_minor": 2
}
