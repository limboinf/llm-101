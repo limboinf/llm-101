{
 "cells": [
  {
   "cell_type": "markdown",
   "metadata": {},
   "source": [
    "## Self-querying\n",
    "\n",
    ">自查询检索器是指具有自我查询能力的检索器。具体来说，给定任何自然语言查询，检索器使用查询构建LLM链来编写结构化查询，然后将该结构化查询应用于其底层的VectorStore。这不仅使检索器可以使用用户输入的查询对存储文档的语义相似性进行比较，还可以从用户查询中提取存储文档的元数据过滤器并执行这些过滤器。"
   ]
  },
  {
   "cell_type": "code",
   "execution_count": 4,
   "metadata": {},
   "outputs": [],
   "source": [
    "from langchain.schema import Document\n",
    "from langchain.embeddings.openai import OpenAIEmbeddings\n",
    "from langchain.vectorstores import Chroma\n",
    "\n",
    "embeddings = OpenAIEmbeddings()\n",
    "\n",
    "# 创建一个电影信息描述的 Document 列表\n",
    "docs = [\n",
    "    Document(\n",
    "        page_content=\"A bunch of scientists bring back dinosaurs and mayhem breaks loose\",\n",
    "        metadata={\"year\": 1993, \"rating\": 7.7, \"genre\": \"science fiction\"},\n",
    "    ),\n",
    "    Document(\n",
    "        page_content=\"Leo DiCaprio gets lost in a dream within a dream within a dream within a ...\",\n",
    "        metadata={\"year\": 2010, \"director\": \"Christopher Nolan\", \"rating\": 8.2},\n",
    "    ),\n",
    "    Document(\n",
    "        page_content=\"A psychologist / detective gets lost in a series of dreams within dreams within dreams and Inception reused the idea\",\n",
    "        metadata={\"year\": 2006, \"director\": \"Satoshi Kon\", \"rating\": 8.6},\n",
    "    ),\n",
    "    Document(\n",
    "        page_content=\"A bunch of normal-sized women are supremely wholesome and some men pine after them\",\n",
    "        metadata={\"year\": 2019, \"director\": \"Greta Gerwig\", \"rating\": 8.3},\n",
    "    ),\n",
    "    Document(\n",
    "        page_content=\"Toys come alive and have a blast doing so\",\n",
    "        metadata={\"year\": 1995, \"genre\": \"animated\"},\n",
    "    ),\n",
    "    Document(\n",
    "        page_content=\"Three men walk into the Zone, three men walk out of the Zone\",\n",
    "        metadata={\n",
    "            \"year\": 1979,\n",
    "            \"rating\": 9.9,\n",
    "            \"director\": \"Andrei Tarkovsky\",\n",
    "            \"genre\": \"science fiction\",\n",
    "            \"rating\": 9.9,\n",
    "        },\n",
    "    ),\n",
    "]\n",
    "vectorstore = Chroma.from_documents(docs, embeddings)"
   ]
  },
  {
   "cell_type": "code",
   "execution_count": 10,
   "metadata": {},
   "outputs": [
    {
     "ename": "TypeError",
     "evalue": "'NoneType' object is not callable",
     "output_type": "error",
     "traceback": [
      "\u001b[0;31m---------------------------------------------------------------------------\u001b[0m",
      "\u001b[0;31mTypeError\u001b[0m                                 Traceback (most recent call last)",
      "Cell \u001b[0;32mIn[10], line 32\u001b[0m\n\u001b[1;32m     28\u001b[0m document_content_description \u001b[39m=\u001b[39m \u001b[39m\"\u001b[39m\u001b[39mBrief summary of a movie\u001b[39m\u001b[39m\"\u001b[39m\n\u001b[1;32m     30\u001b[0m llm \u001b[39m=\u001b[39m OpenAI(temperature\u001b[39m=\u001b[39m\u001b[39m0\u001b[39m)\n\u001b[0;32m---> 32\u001b[0m retriever \u001b[39m=\u001b[39m SelfQueryRetriever\u001b[39m.\u001b[39;49mfrom_llm(\n\u001b[1;32m     33\u001b[0m     llm, vectorstore, document_content_description, metadata_field_info, verbose\u001b[39m=\u001b[39;49m\u001b[39mTrue\u001b[39;49;00m\n\u001b[1;32m     34\u001b[0m )\n",
      "File \u001b[0;32m~/github/llm-101/venv/lib/python3.10/site-packages/langchain/retrievers/self_query/base.py:120\u001b[0m, in \u001b[0;36mSelfQueryRetriever.from_llm\u001b[0;34m(cls, llm, vectorstore, document_contents, metadata_field_info, structured_query_translator, chain_kwargs, enable_limit, **kwargs)\u001b[0m\n\u001b[1;32m    116\u001b[0m \u001b[39mif\u001b[39;00m \u001b[39m\"\u001b[39m\u001b[39mallowed_operators\u001b[39m\u001b[39m\"\u001b[39m \u001b[39mnot\u001b[39;00m \u001b[39min\u001b[39;00m chain_kwargs:\n\u001b[1;32m    117\u001b[0m     chain_kwargs[\n\u001b[1;32m    118\u001b[0m         \u001b[39m\"\u001b[39m\u001b[39mallowed_operators\u001b[39m\u001b[39m\"\u001b[39m\n\u001b[1;32m    119\u001b[0m     ] \u001b[39m=\u001b[39m structured_query_translator\u001b[39m.\u001b[39mallowed_operators\n\u001b[0;32m--> 120\u001b[0m llm_chain \u001b[39m=\u001b[39m load_query_constructor_chain(\n\u001b[1;32m    121\u001b[0m     llm,\n\u001b[1;32m    122\u001b[0m     document_contents,\n\u001b[1;32m    123\u001b[0m     metadata_field_info,\n\u001b[1;32m    124\u001b[0m     enable_limit\u001b[39m=\u001b[39;49menable_limit,\n\u001b[1;32m    125\u001b[0m     \u001b[39m*\u001b[39;49m\u001b[39m*\u001b[39;49mchain_kwargs,\n\u001b[1;32m    126\u001b[0m )\n\u001b[1;32m    127\u001b[0m \u001b[39mreturn\u001b[39;00m \u001b[39mcls\u001b[39m(\n\u001b[1;32m    128\u001b[0m     llm_chain\u001b[39m=\u001b[39mllm_chain,\n\u001b[1;32m    129\u001b[0m     vectorstore\u001b[39m=\u001b[39mvectorstore,\n\u001b[1;32m    130\u001b[0m     structured_query_translator\u001b[39m=\u001b[39mstructured_query_translator,\n\u001b[1;32m    131\u001b[0m     \u001b[39m*\u001b[39m\u001b[39m*\u001b[39mkwargs,\n\u001b[1;32m    132\u001b[0m )\n",
      "File \u001b[0;32m~/github/llm-101/venv/lib/python3.10/site-packages/langchain/chains/query_constructor/base.py:126\u001b[0m, in \u001b[0;36mload_query_constructor_chain\u001b[0;34m(llm, document_contents, attribute_info, examples, allowed_comparators, allowed_operators, enable_limit, **kwargs)\u001b[0m\n\u001b[1;32m    116\u001b[0m \u001b[39mdef\u001b[39;00m \u001b[39mload_query_constructor_chain\u001b[39m(\n\u001b[1;32m    117\u001b[0m     llm: BaseLanguageModel,\n\u001b[1;32m    118\u001b[0m     document_contents: \u001b[39mstr\u001b[39m,\n\u001b[0;32m   (...)\u001b[0m\n\u001b[1;32m    124\u001b[0m     \u001b[39m*\u001b[39m\u001b[39m*\u001b[39mkwargs: Any,\n\u001b[1;32m    125\u001b[0m ) \u001b[39m-\u001b[39m\u001b[39m>\u001b[39m LLMChain:\n\u001b[0;32m--> 126\u001b[0m     prompt \u001b[39m=\u001b[39m _get_prompt(\n\u001b[1;32m    127\u001b[0m         document_contents,\n\u001b[1;32m    128\u001b[0m         attribute_info,\n\u001b[1;32m    129\u001b[0m         examples\u001b[39m=\u001b[39;49mexamples,\n\u001b[1;32m    130\u001b[0m         allowed_comparators\u001b[39m=\u001b[39;49mallowed_comparators,\n\u001b[1;32m    131\u001b[0m         allowed_operators\u001b[39m=\u001b[39;49mallowed_operators,\n\u001b[1;32m    132\u001b[0m         enable_limit\u001b[39m=\u001b[39;49menable_limit,\n\u001b[1;32m    133\u001b[0m     )\n\u001b[1;32m    134\u001b[0m     \u001b[39mreturn\u001b[39;00m LLMChain(llm\u001b[39m=\u001b[39mllm, prompt\u001b[39m=\u001b[39mprompt, \u001b[39m*\u001b[39m\u001b[39m*\u001b[39mkwargs)\n",
      "File \u001b[0;32m~/github/llm-101/venv/lib/python3.10/site-packages/langchain/chains/query_constructor/base.py:103\u001b[0m, in \u001b[0;36m_get_prompt\u001b[0;34m(document_contents, attribute_info, examples, allowed_comparators, allowed_operators, enable_limit)\u001b[0m\n\u001b[1;32m     99\u001b[0m prefix \u001b[39m=\u001b[39m DEFAULT_PREFIX\u001b[39m.\u001b[39mformat(schema\u001b[39m=\u001b[39mschema)\n\u001b[1;32m    100\u001b[0m suffix \u001b[39m=\u001b[39m DEFAULT_SUFFIX\u001b[39m.\u001b[39mformat(\n\u001b[1;32m    101\u001b[0m     i\u001b[39m=\u001b[39m\u001b[39mlen\u001b[39m(examples) \u001b[39m+\u001b[39m \u001b[39m1\u001b[39m, content\u001b[39m=\u001b[39mdocument_contents, attributes\u001b[39m=\u001b[39mattribute_str\n\u001b[1;32m    102\u001b[0m )\n\u001b[0;32m--> 103\u001b[0m output_parser \u001b[39m=\u001b[39m StructuredQueryOutputParser\u001b[39m.\u001b[39;49mfrom_components(\n\u001b[1;32m    104\u001b[0m     allowed_comparators\u001b[39m=\u001b[39;49mallowed_comparators, allowed_operators\u001b[39m=\u001b[39;49mallowed_operators\n\u001b[1;32m    105\u001b[0m )\n\u001b[1;32m    106\u001b[0m \u001b[39mreturn\u001b[39;00m FewShotPromptTemplate(\n\u001b[1;32m    107\u001b[0m     examples\u001b[39m=\u001b[39mexamples,\n\u001b[1;32m    108\u001b[0m     example_prompt\u001b[39m=\u001b[39mEXAMPLE_PROMPT,\n\u001b[0;32m   (...)\u001b[0m\n\u001b[1;32m    112\u001b[0m     output_parser\u001b[39m=\u001b[39moutput_parser,\n\u001b[1;32m    113\u001b[0m )\n",
      "File \u001b[0;32m~/github/llm-101/venv/lib/python3.10/site-packages/langchain/chains/query_constructor/base.py:60\u001b[0m, in \u001b[0;36mStructuredQueryOutputParser.from_components\u001b[0;34m(cls, allowed_comparators, allowed_operators)\u001b[0m\n\u001b[1;32m     54\u001b[0m \u001b[39m@classmethod\u001b[39m\n\u001b[1;32m     55\u001b[0m \u001b[39mdef\u001b[39;00m \u001b[39mfrom_components\u001b[39m(\n\u001b[1;32m     56\u001b[0m     \u001b[39mcls\u001b[39m,\n\u001b[1;32m     57\u001b[0m     allowed_comparators: Optional[Sequence[Comparator]] \u001b[39m=\u001b[39m \u001b[39mNone\u001b[39;00m,\n\u001b[1;32m     58\u001b[0m     allowed_operators: Optional[Sequence[Operator]] \u001b[39m=\u001b[39m \u001b[39mNone\u001b[39;00m,\n\u001b[1;32m     59\u001b[0m ) \u001b[39m-\u001b[39m\u001b[39m>\u001b[39m StructuredQueryOutputParser:\n\u001b[0;32m---> 60\u001b[0m     ast_parser \u001b[39m=\u001b[39m get_parser(\n\u001b[1;32m     61\u001b[0m         allowed_comparators\u001b[39m=\u001b[39;49mallowed_comparators, allowed_operators\u001b[39m=\u001b[39;49mallowed_operators\n\u001b[1;32m     62\u001b[0m     )\n\u001b[1;32m     63\u001b[0m     \u001b[39mreturn\u001b[39;00m \u001b[39mcls\u001b[39m(ast_parse\u001b[39m=\u001b[39mast_parser\u001b[39m.\u001b[39mparse)\n",
      "File \u001b[0;32m~/github/llm-101/venv/lib/python3.10/site-packages/langchain/chains/query_constructor/parser.py:132\u001b[0m, in \u001b[0;36mget_parser\u001b[0;34m(allowed_comparators, allowed_operators)\u001b[0m\n\u001b[1;32m    128\u001b[0m \u001b[39mdef\u001b[39;00m \u001b[39mget_parser\u001b[39m(\n\u001b[1;32m    129\u001b[0m     allowed_comparators: Optional[Sequence[Comparator]] \u001b[39m=\u001b[39m \u001b[39mNone\u001b[39;00m,\n\u001b[1;32m    130\u001b[0m     allowed_operators: Optional[Sequence[Operator]] \u001b[39m=\u001b[39m \u001b[39mNone\u001b[39;00m,\n\u001b[1;32m    131\u001b[0m ) \u001b[39m-\u001b[39m\u001b[39m>\u001b[39m Lark:\n\u001b[0;32m--> 132\u001b[0m     transformer \u001b[39m=\u001b[39m QueryTransformer(\n\u001b[1;32m    133\u001b[0m         allowed_comparators\u001b[39m=\u001b[39;49mallowed_comparators, allowed_operators\u001b[39m=\u001b[39;49mallowed_operators\n\u001b[1;32m    134\u001b[0m     )\n\u001b[1;32m    135\u001b[0m     \u001b[39mreturn\u001b[39;00m Lark(GRAMMAR, parser\u001b[39m=\u001b[39m\u001b[39m\"\u001b[39m\u001b[39mlalr\u001b[39m\u001b[39m\"\u001b[39m, transformer\u001b[39m=\u001b[39mtransformer, start\u001b[39m=\u001b[39m\u001b[39m\"\u001b[39m\u001b[39mprogram\u001b[39m\u001b[39m\"\u001b[39m)\n",
      "\u001b[0;31mTypeError\u001b[0m: 'NoneType' object is not callable"
     ]
    }
   ],
   "source": [
    "# Creating our self-querying retriever\n",
    "from langchain.llms import OpenAI\n",
    "from langchain.retrievers.self_query.base import SelfQueryRetriever\n",
    "from langchain.chains.query_constructor.base import AttributeInfo\n",
    "\n",
    "# 创建元数据描述\n",
    "metadata_field_info = [\n",
    "    AttributeInfo(\n",
    "        name=\"genre\",\n",
    "        description=\"The genre of the movie\",\n",
    "        type=\"string or list[string]\",\n",
    "    ),\n",
    "    AttributeInfo(\n",
    "        name=\"year\",\n",
    "        description=\"The year the movie was released\",\n",
    "        type=\"integer\",\n",
    "    ),\n",
    "    AttributeInfo(\n",
    "        name=\"director\",\n",
    "        description=\"The name of the movie director\",\n",
    "        type=\"string\",\n",
    "    ),\n",
    "    AttributeInfo(\n",
    "        name=\"rating\", description=\"A 1-10 rating for the movie\", type=\"float\"\n",
    "    ),\n",
    "]\n",
    "\n",
    "document_content_description = \"Brief summary of a movie\"\n",
    "\n",
    "llm = OpenAI(temperature=0)\n",
    "\n",
    "retriever = SelfQueryRetriever.from_llm(\n",
    "    llm, vectorstore, document_content_description, metadata_field_info, verbose=True\n",
    ")"
   ]
  },
  {
   "cell_type": "code",
   "execution_count": null,
   "metadata": {},
   "outputs": [],
   "source": [
    "# This example only specifies a relevant query\n",
    "retriever.get_relevant_documents(\"What are some movies about dinosaurs\")"
   ]
  }
 ],
 "metadata": {
  "kernelspec": {
   "display_name": "venv",
   "language": "python",
   "name": "python3"
  },
  "language_info": {
   "codemirror_mode": {
    "name": "ipython",
    "version": 3
   },
   "file_extension": ".py",
   "mimetype": "text/x-python",
   "name": "python",
   "nbconvert_exporter": "python",
   "pygments_lexer": "ipython3",
   "version": "3.10.8"
  },
  "orig_nbformat": 4
 },
 "nbformat": 4,
 "nbformat_minor": 2
}
