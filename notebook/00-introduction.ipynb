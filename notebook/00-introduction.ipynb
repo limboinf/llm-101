{
 "cells": [
  {
   "cell_type": "markdown",
   "id": "68e4433a-e3a2-4823-be7b-28c36e4340f6",
   "metadata": {},
   "source": [
    "## Introduction\n",
    "\n",
    "docs: https://python.langchain.com/docs/get_started/introduction.html\n",
    "\n",
    "- 模型I/O（Model I/O）：与语言模型接口。\n",
    "- 检索（Retrieval）：与特定应用程序数据接口。\n",
    "- 链（Chains）：构建调用序列。\n",
    "- 代理（Agents）：让链选择使用哪些工具，给出高级指令。\n",
    "- 内存（Memory）：在链的运行之间保持应用程序状态。\n",
    "- 回调（Callbacks）：记录并流式传输任何链的中间步骤。"
   ]
  },
  {
   "cell_type": "markdown",
   "id": "3d906337-7a17-4671-b082-39566e6fb67c",
   "metadata": {},
   "source": [
    "## Quickstart\n",
    "docs: https://python.langchain.com/docs/get_started/quickstart\n",
    "\n",
    "set environment `OPENAI_API_KEY`\n",
    "\n",
    "LLMChain, combines three things:\n",
    "- LLMs\n",
    "    - LLMs: takes string as input and returns string.\n",
    "    - ChatModels: takes a list of messages(`ChatMessage`) as input and returns a message. \n",
    "- Prompt Templates\n",
    "- Output Parsers"
   ]
  },
  {
   "cell_type": "code",
   "execution_count": 1,
   "id": "acc64b91-3511-4f1b-a6dc-4eb8a8ede375",
   "metadata": {},
   "outputs": [
    {
     "data": {
      "text/plain": [
       "True"
      ]
     },
     "execution_count": 1,
     "metadata": {},
     "output_type": "execute_result"
    }
   ],
   "source": [
    "from dotenv import load_dotenv\n",
    "load_dotenv()"
   ]
  },
  {
   "cell_type": "code",
   "execution_count": 6,
   "id": "b916ec4a-dce6-4a5d-a11c-96638c1baf45",
   "metadata": {},
   "outputs": [
    {
     "data": {
      "text/plain": [
       "\"\\n\\nI'm sorry, I don't understand your question. Can you please rephrase it?\""
      ]
     },
     "execution_count": 6,
     "metadata": {},
     "output_type": "execute_result"
    }
   ],
   "source": [
    "from langchain.llms import OpenAI\n",
    "llm = OpenAI()\n",
    "# llms takes string as input and returns string.\n",
    "llm.predict('hi')"
   ]
  },
  {
   "cell_type": "code",
   "execution_count": 5,
   "id": "a63f5b63-2e8a-48b0-aeb6-4a64547a6462",
   "metadata": {},
   "outputs": [
    {
     "data": {
      "text/plain": [
       "'Hello! How can I assist you today?'"
      ]
     },
     "execution_count": 5,
     "metadata": {},
     "output_type": "execute_result"
    }
   ],
   "source": [
    "from langchain.chat_models import ChatOpenAI\n",
    "chat_model = ChatOpenAI()\n",
    "chat_model.predict('hi')"
   ]
  },
  {
   "cell_type": "markdown",
   "id": "cc4852e3-f274-46c7-af2d-5343cf988465",
   "metadata": {},
   "source": [
    "llm or ChatModel methods:\n",
    "- predict(str)\n",
    "- predict_messages(list of Message)\n",
    "\n",
    "`from langchain.schema import HumanMessage`"
   ]
  },
  {
   "cell_type": "code",
   "execution_count": 7,
   "id": "20e051ae-a788-48e2-af5a-3da3d9aa5552",
   "metadata": {},
   "outputs": [
    {
     "data": {
      "text/plain": [
       "AIMessage(content='\\n\\nOnce upon a time, there was a young boy named Jack. Jack lived in a small village surrounded by rolling hills and lush green fields. He loved spending his days exploring the countryside, searching for hidden treasures and new adventures. One day, Jack stumbled upon a mysterious cave. He decided to explore it and was amazed to find a magical kingdom hidden inside. There he met a friendly wizard who granted him three wishes. Jack wished for a lifetime of adventure and to always be surrounded by nature. His wishes were granted and he has been happily exploring ever since.', additional_kwargs={}, example=False)"
      ]
     },
     "execution_count": 7,
     "metadata": {},
     "output_type": "execute_result"
    }
   ],
   "source": [
    "from langchain.schema import HumanMessage\n",
    "text = 'Write a simple story'\n",
    "messages = [HumanMessage(content=text)]\n",
    "llm.predict_messages(messages)"
   ]
  },
  {
   "cell_type": "code",
   "execution_count": 8,
   "id": "d0286b32-008f-4363-a945-7ae0579aed4d",
   "metadata": {},
   "outputs": [
    {
     "data": {
      "text/plain": [
       "AIMessage(content='Once upon a time, in a small village nestled at the foot of a majestic mountain, lived a young girl named Lily. She had a heart full of curiosity and an insatiable desire for adventure. One sunny morning, as Lily was exploring the outskirts of the village, she stumbled upon an old, dusty book hidden beneath a pile of leaves.\\n\\nIntrigued, Lily carefully blew away the dust and opened the book. The pages were filled with vivid illustrations and tales of a hidden treasure buried deep within the forest. Lily\\'s eyes sparkled with excitement as she realized that the forest was just a stone\\'s throw away from her village.\\n\\nDetermined to find the treasure, Lily embarked on her journey into the mysterious forest. The trees whispered ancient secrets, and the sunlight filtered through the branches, creating a magical ambiance. As she ventured deeper, Lily encountered various challenges, from crossing treacherous rivers to navigating dense thickets.\\n\\nBut with each obstacle, Lily\\'s resolve grew stronger. She persevered, motivated by the thought of discovering the hidden treasure and the unknown wonders that awaited her. Along the way, she made new friends, like a mischievous squirrel and a wise old owl, who offered guidance and support.\\n\\nAfter days of tireless exploration, Lily stumbled upon a clearing. It was adorned with colorful flowers and lush green grass. In the center, there stood a magnificent, ancient oak tree. As Lily approached it, she noticed a hollow in its trunk.\\n\\nWith bated breath, she reached inside and pulled out a small, intricately designed wooden chest. Her heart raced as she opened it, revealing an array of shimmering gemstones, sparkling coins, and a note that read, \"Congratulations, adventurer! May these treasures remind you of the courage and determination that led you here.\"\\n\\nOverwhelmed with joy, Lily knew that the true treasure she had discovered was not the material wealth but the personal growth she experienced throughout her journey. It was the friendships she forged, the obstacles she overcame, and the lessons she learned along the way.\\n\\nWith the wooden chest safely tucked under her arm, Lily made her way back to the village. News of her incredible adventure spread like wildfire, and the villagers gathered around to hear her tales. Lily shared her story, inspiring others to pursue their dreams and embrace the unknown.\\n\\nFrom that day forward, Lily became known as the village\\'s brave explorer. She continued to seek new adventures, reminding everyone that the greatest treasures are often found not in the destination but in the journey itself.', additional_kwargs={}, example=False)"
      ]
     },
     "execution_count": 8,
     "metadata": {},
     "output_type": "execute_result"
    }
   ],
   "source": [
    "chat_model.predict_messages(messages)"
   ]
  },
  {
   "cell_type": "markdown",
   "id": "c8360e74-914d-4c27-aa1d-d0bea7d16bb6",
   "metadata": {},
   "source": [
    "### Prompt templates"
   ]
  },
  {
   "cell_type": "code",
   "execution_count": 9,
   "id": "86cadcd9-2e7e-4595-9fef-45263d2186e6",
   "metadata": {},
   "outputs": [
    {
     "data": {
      "text/plain": [
       "'translate limbo to Chinese'"
      ]
     },
     "execution_count": 9,
     "metadata": {},
     "output_type": "execute_result"
    }
   ],
   "source": [
    "from langchain.prompts import PromptTemplate\n",
    "\n",
    "prompt = PromptTemplate.from_template('translate {words} to Chinese')\n",
    "prompt.format(words='limbo')"
   ]
  },
  {
   "cell_type": "code",
   "execution_count": 10,
   "id": "4c72dc89-8de2-4790-bd22-f3a98d05a250",
   "metadata": {},
   "outputs": [
    {
     "data": {
      "text/plain": [
       "[SystemMessage(content='You are a helpful assistant that translates English to Chinese.', additional_kwargs={}),\n",
       " HumanMessage(content='this text is : async more', additional_kwargs={}, example=False)]"
      ]
     },
     "execution_count": 10,
     "metadata": {},
     "output_type": "execute_result"
    }
   ],
   "source": [
    "from langchain.prompts.chat import (\n",
    "    ChatPromptTemplate,\n",
    "    SystemMessagePromptTemplate,\n",
    "    HumanMessagePromptTemplate,\n",
    ")\n",
    "\n",
    "template = \"You are a helpful assistant that translates {input_language} to {output_language}.\"\n",
    "sys_prompt = SystemMessagePromptTemplate.from_template(template)\n",
    "human_prompt = HumanMessagePromptTemplate.from_template('this text is : {text}')\n",
    "\n",
    "chat_prompt = ChatPromptTemplate.from_messages([sys_prompt, human_prompt])\n",
    "chat_prompt.format_messages(input_language='English', output_language='Chinese',  text='async more')"
   ]
  },
  {
   "cell_type": "code",
   "execution_count": 15,
   "id": "402b15ea-580c-455c-991f-e9366b73d19c",
   "metadata": {},
   "outputs": [],
   "source": [
    "ids = [\n",
    "20069\n",
    ",20070\n",
    ",20071\n",
    ",20072\n",
    ",20073\n",
    ",20074\n",
    ",20075\n",
    ",20076\n",
    ",20077\n",
    ",20078\n",
    ",20091\n",
    ",20121\n",
    ",20137\n",
    ",20138\n",
    ",20139\n",
    ",20090\n",
    ",20092\n",
    ",20093\n",
    ",20094\n",
    ",20095\n",
    ",20085\n",
    ",20086\n",
    ",20087\n",
    ",20088\n",
    ",20089\n",
    ",20140\n",
    ",20141\n",
    ",20142\n",
    ",20143\n",
    ",20144\n",
    ",20155\n",
    ",20156\n",
    ",20157\n",
    ",20158\n",
    ",20159\n",
    ",20160\n",
    ",20161\n",
    ",20162\n",
    ",20163\n",
    ",20164\n",
    ",20175\n",
    ",20176\n",
    ",20177\n",
    ",20178\n",
    ",20179\n",
    ",20185\n",
    ",20186\n",
    ",20187\n",
    ",20188\n",
    ",20189\n",
    ",20195\n",
    ",20196\n",
    ",20197\n",
    ",20198\n",
    ",20199\n",
    ",20205\n",
    ",20206\n",
    ",20207\n",
    ",20208\n",
    ",20209\n",
    ",20210\n",
    ",20211\n",
    ",20212\n",
    ",20213\n",
    ",20214\n",
    ",20220\n",
    ",20221\n",
    ",20222\n",
    ",20223\n",
    ",20224\n",
    "]"
   ]
  },
  {
   "cell_type": "code",
   "execution_count": 16,
   "id": "ea0f629d-51f1-4d5d-8c93-2ac105693d36",
   "metadata": {},
   "outputs": [
    {
     "name": "stdout",
     "output_type": "stream",
     "text": [
      "insert into user_lesson_complete (user_id, base_lesson_id, course_package_id, create_time) values (2904, 20069, 11, now());\n",
      "insert into user_lesson_complete (user_id, base_lesson_id, course_package_id, create_time) values (2904, 20070, 11, now());\n",
      "insert into user_lesson_complete (user_id, base_lesson_id, course_package_id, create_time) values (2904, 20071, 11, now());\n",
      "insert into user_lesson_complete (user_id, base_lesson_id, course_package_id, create_time) values (2904, 20072, 11, now());\n",
      "insert into user_lesson_complete (user_id, base_lesson_id, course_package_id, create_time) values (2904, 20073, 11, now());\n",
      "insert into user_lesson_complete (user_id, base_lesson_id, course_package_id, create_time) values (2904, 20074, 11, now());\n",
      "insert into user_lesson_complete (user_id, base_lesson_id, course_package_id, create_time) values (2904, 20075, 11, now());\n",
      "insert into user_lesson_complete (user_id, base_lesson_id, course_package_id, create_time) values (2904, 20076, 11, now());\n",
      "insert into user_lesson_complete (user_id, base_lesson_id, course_package_id, create_time) values (2904, 20077, 11, now());\n",
      "insert into user_lesson_complete (user_id, base_lesson_id, course_package_id, create_time) values (2904, 20078, 11, now());\n",
      "insert into user_lesson_complete (user_id, base_lesson_id, course_package_id, create_time) values (2904, 20091, 11, now());\n",
      "insert into user_lesson_complete (user_id, base_lesson_id, course_package_id, create_time) values (2904, 20121, 11, now());\n",
      "insert into user_lesson_complete (user_id, base_lesson_id, course_package_id, create_time) values (2904, 20137, 11, now());\n",
      "insert into user_lesson_complete (user_id, base_lesson_id, course_package_id, create_time) values (2904, 20138, 11, now());\n",
      "insert into user_lesson_complete (user_id, base_lesson_id, course_package_id, create_time) values (2904, 20139, 11, now());\n",
      "insert into user_lesson_complete (user_id, base_lesson_id, course_package_id, create_time) values (2904, 20090, 11, now());\n",
      "insert into user_lesson_complete (user_id, base_lesson_id, course_package_id, create_time) values (2904, 20092, 11, now());\n",
      "insert into user_lesson_complete (user_id, base_lesson_id, course_package_id, create_time) values (2904, 20093, 11, now());\n",
      "insert into user_lesson_complete (user_id, base_lesson_id, course_package_id, create_time) values (2904, 20094, 11, now());\n",
      "insert into user_lesson_complete (user_id, base_lesson_id, course_package_id, create_time) values (2904, 20095, 11, now());\n",
      "insert into user_lesson_complete (user_id, base_lesson_id, course_package_id, create_time) values (2904, 20085, 11, now());\n",
      "insert into user_lesson_complete (user_id, base_lesson_id, course_package_id, create_time) values (2904, 20086, 11, now());\n",
      "insert into user_lesson_complete (user_id, base_lesson_id, course_package_id, create_time) values (2904, 20087, 11, now());\n",
      "insert into user_lesson_complete (user_id, base_lesson_id, course_package_id, create_time) values (2904, 20088, 11, now());\n",
      "insert into user_lesson_complete (user_id, base_lesson_id, course_package_id, create_time) values (2904, 20089, 11, now());\n",
      "insert into user_lesson_complete (user_id, base_lesson_id, course_package_id, create_time) values (2904, 20140, 11, now());\n",
      "insert into user_lesson_complete (user_id, base_lesson_id, course_package_id, create_time) values (2904, 20141, 11, now());\n",
      "insert into user_lesson_complete (user_id, base_lesson_id, course_package_id, create_time) values (2904, 20142, 11, now());\n",
      "insert into user_lesson_complete (user_id, base_lesson_id, course_package_id, create_time) values (2904, 20143, 11, now());\n",
      "insert into user_lesson_complete (user_id, base_lesson_id, course_package_id, create_time) values (2904, 20144, 11, now());\n",
      "insert into user_lesson_complete (user_id, base_lesson_id, course_package_id, create_time) values (2904, 20155, 11, now());\n",
      "insert into user_lesson_complete (user_id, base_lesson_id, course_package_id, create_time) values (2904, 20156, 11, now());\n",
      "insert into user_lesson_complete (user_id, base_lesson_id, course_package_id, create_time) values (2904, 20157, 11, now());\n",
      "insert into user_lesson_complete (user_id, base_lesson_id, course_package_id, create_time) values (2904, 20158, 11, now());\n",
      "insert into user_lesson_complete (user_id, base_lesson_id, course_package_id, create_time) values (2904, 20159, 11, now());\n",
      "insert into user_lesson_complete (user_id, base_lesson_id, course_package_id, create_time) values (2904, 20160, 11, now());\n",
      "insert into user_lesson_complete (user_id, base_lesson_id, course_package_id, create_time) values (2904, 20161, 11, now());\n",
      "insert into user_lesson_complete (user_id, base_lesson_id, course_package_id, create_time) values (2904, 20162, 11, now());\n",
      "insert into user_lesson_complete (user_id, base_lesson_id, course_package_id, create_time) values (2904, 20163, 11, now());\n",
      "insert into user_lesson_complete (user_id, base_lesson_id, course_package_id, create_time) values (2904, 20164, 11, now());\n",
      "insert into user_lesson_complete (user_id, base_lesson_id, course_package_id, create_time) values (2904, 20175, 11, now());\n",
      "insert into user_lesson_complete (user_id, base_lesson_id, course_package_id, create_time) values (2904, 20176, 11, now());\n",
      "insert into user_lesson_complete (user_id, base_lesson_id, course_package_id, create_time) values (2904, 20177, 11, now());\n",
      "insert into user_lesson_complete (user_id, base_lesson_id, course_package_id, create_time) values (2904, 20178, 11, now());\n",
      "insert into user_lesson_complete (user_id, base_lesson_id, course_package_id, create_time) values (2904, 20179, 11, now());\n",
      "insert into user_lesson_complete (user_id, base_lesson_id, course_package_id, create_time) values (2904, 20185, 11, now());\n",
      "insert into user_lesson_complete (user_id, base_lesson_id, course_package_id, create_time) values (2904, 20186, 11, now());\n",
      "insert into user_lesson_complete (user_id, base_lesson_id, course_package_id, create_time) values (2904, 20187, 11, now());\n",
      "insert into user_lesson_complete (user_id, base_lesson_id, course_package_id, create_time) values (2904, 20188, 11, now());\n",
      "insert into user_lesson_complete (user_id, base_lesson_id, course_package_id, create_time) values (2904, 20189, 11, now());\n",
      "insert into user_lesson_complete (user_id, base_lesson_id, course_package_id, create_time) values (2904, 20195, 11, now());\n",
      "insert into user_lesson_complete (user_id, base_lesson_id, course_package_id, create_time) values (2904, 20196, 11, now());\n",
      "insert into user_lesson_complete (user_id, base_lesson_id, course_package_id, create_time) values (2904, 20197, 11, now());\n",
      "insert into user_lesson_complete (user_id, base_lesson_id, course_package_id, create_time) values (2904, 20198, 11, now());\n",
      "insert into user_lesson_complete (user_id, base_lesson_id, course_package_id, create_time) values (2904, 20199, 11, now());\n",
      "insert into user_lesson_complete (user_id, base_lesson_id, course_package_id, create_time) values (2904, 20205, 11, now());\n",
      "insert into user_lesson_complete (user_id, base_lesson_id, course_package_id, create_time) values (2904, 20206, 11, now());\n",
      "insert into user_lesson_complete (user_id, base_lesson_id, course_package_id, create_time) values (2904, 20207, 11, now());\n",
      "insert into user_lesson_complete (user_id, base_lesson_id, course_package_id, create_time) values (2904, 20208, 11, now());\n",
      "insert into user_lesson_complete (user_id, base_lesson_id, course_package_id, create_time) values (2904, 20209, 11, now());\n",
      "insert into user_lesson_complete (user_id, base_lesson_id, course_package_id, create_time) values (2904, 20210, 11, now());\n",
      "insert into user_lesson_complete (user_id, base_lesson_id, course_package_id, create_time) values (2904, 20211, 11, now());\n",
      "insert into user_lesson_complete (user_id, base_lesson_id, course_package_id, create_time) values (2904, 20212, 11, now());\n",
      "insert into user_lesson_complete (user_id, base_lesson_id, course_package_id, create_time) values (2904, 20213, 11, now());\n",
      "insert into user_lesson_complete (user_id, base_lesson_id, course_package_id, create_time) values (2904, 20214, 11, now());\n",
      "insert into user_lesson_complete (user_id, base_lesson_id, course_package_id, create_time) values (2904, 20220, 11, now());\n",
      "insert into user_lesson_complete (user_id, base_lesson_id, course_package_id, create_time) values (2904, 20221, 11, now());\n",
      "insert into user_lesson_complete (user_id, base_lesson_id, course_package_id, create_time) values (2904, 20222, 11, now());\n",
      "insert into user_lesson_complete (user_id, base_lesson_id, course_package_id, create_time) values (2904, 20223, 11, now());\n",
      "insert into user_lesson_complete (user_id, base_lesson_id, course_package_id, create_time) values (2904, 20224, 11, now());\n"
     ]
    }
   ],
   "source": [
    "s = 'insert into user_lesson_complete (user_id, base_lesson_id, course_package_id, create_time) values (2904, {lesson_id}, 11, now());'\n",
    "\n",
    "for i in ids:\n",
    "    print(s.format(lesson_id=i))"
   ]
  }
 ],
 "metadata": {
  "kernelspec": {
   "display_name": "Python 3 (ipykernel)",
   "language": "python",
   "name": "python3"
  },
  "language_info": {
   "codemirror_mode": {
    "name": "ipython",
    "version": 3
   },
   "file_extension": ".py",
   "mimetype": "text/x-python",
   "name": "python",
   "nbconvert_exporter": "python",
   "pygments_lexer": "ipython3",
   "version": "3.10.11"
  }
 },
 "nbformat": 4,
 "nbformat_minor": 5
}
