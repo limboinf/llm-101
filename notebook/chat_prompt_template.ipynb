{
 "cells": [
  {
   "attachments": {},
   "cell_type": "markdown",
   "metadata": {},
   "source": [
    "## Chat Prompt Templates\n",
    "聊天提示模版：docs: https://python.langchain.com/en/latest/modules/prompts/chat_prompt_template.html\n",
    "\n",
    "chat model uses chat message, not raw text.\n",
    "\n",
    "> 鼓励在用 Chat Model 时使用这些与聊天相关的提示模板而不是 PromptTemplate ，以充分利用底层聊天模型的潜力。"
   ]
  },
  {
   "cell_type": "code",
   "execution_count": 16,
   "metadata": {},
   "outputs": [],
   "source": [
    "from langchain.prompts import (\n",
    "    ChatPromptTemplate,\n",
    "    PromptTemplate,\n",
    "    SystemMessagePromptTemplate,\n",
    "    AIMessagePromptTemplate,\n",
    "    HumanMessagePromptTemplate,\n",
    ")\n",
    "from langchain.schema import (\n",
    "    AIMessage,\n",
    "    HumanMessage,\n",
    "    SystemMessage\n",
    ")"
   ]
  },
  {
   "cell_type": "code",
   "execution_count": 17,
   "metadata": {},
   "outputs": [],
   "source": [
    "# 使用 MessagePromptTemplate 创建与角色关联的消息模板\n",
    "template=\"You are a helpful assistant that translates {input_language} to {output_language}.\"\n",
    "system_message_prompt = SystemMessagePromptTemplate.from_template(template)\n",
    "\n",
    "human_template=\"{text}\"\n",
    "human_message_prompt = HumanMessagePromptTemplate.from_template(human_template)"
   ]
  },
  {
   "cell_type": "code",
   "execution_count": 18,
   "metadata": {},
   "outputs": [],
   "source": [
    "# 更直接地构建 MessagePromptTemplate\n",
    "prompt=PromptTemplate(\n",
    "    template=\"You are a helpful assistant that translates {input_language} to {output_language}.\",\n",
    "    input_variables=[\"input_language\", \"output_language\"],\n",
    ")\n",
    "system_message_prompt_2 = SystemMessagePromptTemplate(prompt=prompt)\n",
    "\n",
    "assert system_message_prompt == system_message_prompt_2"
   ]
  },
  {
   "cell_type": "code",
   "execution_count": 25,
   "metadata": {},
   "outputs": [
    {
     "name": "stdout",
     "output_type": "stream",
     "text": [
      "type: <class 'langchain.prompts.chat.ChatPromptValue'>, fmt: messages=[SystemMessage(content='You are a helpful assistant that translates English to French.', additional_kwargs={}), HumanMessage(content='Hello, how are you?', additional_kwargs={}, example=False)]\n",
      "\n",
      "\n",
      "System: Bonjour, comment allez-vous?\n",
      "content='Bonjour, comment allez-vous ?' additional_kwargs={} example=False\n"
     ]
    }
   ],
   "source": [
    "\"\"\"\n",
    "之后，可以从一个或多个 MessagePromptTemplates 构建一个 ChatPromptTemplate 。\n",
    "使用 ChatPromptTemplate 的 format_prompt 这将返回一个 PromptValue \n",
    "可以将其转换为字符串或消息对象，具体取决于是否要将格式化值用作 llm 或聊天模型的输入。(OpenAI: raw text, ChatOpenAI: message)\n",
    "\"\"\"\n",
    "\n",
    "chat_prompt = ChatPromptTemplate.from_messages([system_message_prompt, human_message_prompt])\n",
    "\n",
    "fmt = chat_prompt.format_prompt(input_language=\"English\", output_language=\"French\", text=\"Hello, how are you?\")\n",
    "print(f'type: {type(fmt)}, fmt: {fmt}')\n",
    "\n",
    "# ----- # OpenAI 传入 raw text --------\n",
    "from langchain.llms import OpenAI\n",
    "\n",
    "llm = OpenAI()\n",
    "print(llm(fmt.to_string())) # OpenAI 传入 raw text\n",
    "\n",
    "# ----- # ChatOpenAI 传入 message --------\n",
    "from langchain.chat_models import ChatOpenAI\n",
    "llm = ChatOpenAI()\n",
    "print(llm(fmt.to_messages())) # ChatOpenAI 传入 message"
   ]
  }
 ],
 "metadata": {
  "kernelspec": {
   "display_name": "Python 3 (ipykernel)",
   "language": "python",
   "name": "python3"
  },
  "language_info": {
   "codemirror_mode": {
    "name": "ipython",
    "version": 3
   },
   "file_extension": ".py",
   "mimetype": "text/x-python",
   "name": "python",
   "nbconvert_exporter": "python",
   "pygments_lexer": "ipython3",
   "version": "3.10.11"
  },
  "orig_nbformat": 4
 },
 "nbformat": 4,
 "nbformat_minor": 2
}
