{
 "cells": [
  {
   "cell_type": "code",
   "execution_count": 1,
   "metadata": {},
   "outputs": [
    {
     "name": "stdout",
     "output_type": "stream",
     "text": [
      "Init AIPROXY env\n"
     ]
    },
    {
     "data": {
      "text/plain": [
       "<module 'openai' from '/Users/lingoace/Documents/GitHub/llm-101/venv/lib/python3.10/site-packages/openai/__init__.py'>"
      ]
     },
     "execution_count": 1,
     "metadata": {},
     "output_type": "execute_result"
    }
   ],
   "source": [
    "from app.init import init_llm\n",
    "init_llm(2)"
   ]
  },
  {
   "attachments": {},
   "cell_type": "markdown",
   "metadata": {},
   "source": [
    "## Serialize Prompts\n",
    "> 通常最好将提示存储为文件而不是 python 代码。这可以使共享、存储和版本提示变得容易\n",
    "\n",
    "支持 JSON 和 YAML，通过下面函数来加载\n",
    "\n",
    "```python\n",
    "from langchain.prompts import load_prompt\n",
    "```\n",
    "\n",
    "docs: https://python.langchain.com/en/latest/modules/prompts/prompt_templates/examples/prompt_serialization.html"
   ]
  },
  {
   "cell_type": "code",
   "execution_count": 2,
   "metadata": {},
   "outputs": [],
   "source": [
    "from langchain.prompts import load_prompt"
   ]
  },
  {
   "cell_type": "code",
   "execution_count": 3,
   "metadata": {},
   "outputs": [
    {
     "name": "stdout",
     "output_type": "stream",
     "text": [
      "_type: prompt\n",
      "input_variables:\n",
      "    [\"adjective\", \"content\"]\n",
      "template: \n",
      "    Tell me a {adjective} joke about {content}."
     ]
    }
   ],
   "source": [
    "!cat prompts/simple_prompt.yaml"
   ]
  },
  {
   "cell_type": "code",
   "execution_count": 4,
   "metadata": {},
   "outputs": [
    {
     "name": "stdout",
     "output_type": "stream",
     "text": [
      "Tell me a funny joke about chickens.\n"
     ]
    }
   ],
   "source": [
    "prompt = load_prompt('prompts/simple_prompt.yaml')\n",
    "print(prompt.format(adjective=\"funny\", content=\"chickens\"))"
   ]
  },
  {
   "cell_type": "code",
   "execution_count": 5,
   "metadata": {},
   "outputs": [
    {
     "name": "stdout",
     "output_type": "stream",
     "text": [
      "{\n",
      "    \"_type\": \"prompt\",\n",
      "    \"input_variables\": [\"adjective\", \"content\"],\n",
      "    \"template\": \"Tell me a {adjective} joke about {content}.\"\n",
      "}"
     ]
    }
   ],
   "source": [
    "!cat prompts/simple_prompt.json"
   ]
  },
  {
   "cell_type": "code",
   "execution_count": 6,
   "metadata": {},
   "outputs": [
    {
     "name": "stdout",
     "output_type": "stream",
     "text": [
      "Tell me a funny joke about chickens.\n"
     ]
    }
   ],
   "source": [
    "prompt = load_prompt('prompts/simple_prompt.json')\n",
    "print(prompt.format(adjective=\"funny\", content=\"chickens\"))"
   ]
  },
  {
   "cell_type": "code",
   "execution_count": 7,
   "metadata": {},
   "outputs": [
    {
     "name": "stdout",
     "output_type": "stream",
     "text": [
      "Tell me a {adjective} joke about {content}."
     ]
    }
   ],
   "source": [
    "# loading template from a file\n",
    "!cat prompts/simple_prompt.txt"
   ]
  },
  {
   "cell_type": "code",
   "execution_count": 15,
   "metadata": {},
   "outputs": [
    {
     "name": "stdout",
     "output_type": "stream",
     "text": [
      "{\n",
      "    \"_type\": \"prompt\",\n",
      "    \"input_variables\": [\"adjective\", \"content\"],\n",
      "    \"template_path\": \"prompts/simple_prompt.txt\"\n",
      "}"
     ]
    }
   ],
   "source": [
    "!cat prompts/simple_prompt_with_template_file.json\n",
    "# 这显示了将模板存储在单独的文件中然后在配置中引用它的示例。请注意，键从 template 更改为 template_path。"
   ]
  },
  {
   "cell_type": "code",
   "execution_count": 14,
   "metadata": {},
   "outputs": [
    {
     "name": "stdout",
     "output_type": "stream",
     "text": [
      "Tell me a funny joke about chickens.\n"
     ]
    }
   ],
   "source": [
    "prompt = load_prompt(\"prompts/simple_prompt_with_template_file.json\")\n",
    "print(prompt.format(adjective=\"funny\", content=\"chickens\"))"
   ]
  }
 ],
 "metadata": {
  "kernelspec": {
   "display_name": "Python 3 (ipykernel)",
   "language": "python",
   "name": "python3"
  },
  "orig_nbformat": 4
 },
 "nbformat": 4,
 "nbformat_minor": 2
}
