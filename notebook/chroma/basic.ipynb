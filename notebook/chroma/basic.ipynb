{
 "cells": [
  {
   "attachments": {},
   "cell_type": "markdown",
   "metadata": {},
   "source": [
    "## Chroma Quick Start\n",
    "docs: https://docs.trychroma.com/getting-started\n"
   ]
  },
  {
   "cell_type": "code",
   "execution_count": null,
   "metadata": {},
   "outputs": [],
   "source": [
    "%pip install chromadb"
   ]
  },
  {
   "cell_type": "code",
   "execution_count": 2,
   "metadata": {},
   "outputs": [],
   "source": [
    "import chromadb\n",
    "chroma_client = chromadb.Client()"
   ]
  },
  {
   "cell_type": "code",
   "execution_count": 3,
   "metadata": {},
   "outputs": [],
   "source": [
    "# create collection\n",
    "# Collections are where you'll store your embeddings, documents, and any additional metadata. \n",
    "# You can create a collection with a name:\n",
    "\n",
    "collection = chroma_client.create_collection(name='my_collection')"
   ]
  },
  {
   "cell_type": "code",
   "execution_count": 4,
   "metadata": {},
   "outputs": [],
   "source": [
    "# add some text\n",
    "# Chroma将存储你的文本，并自动处理标记化、嵌入和索引。\n",
    "\n",
    "collection.add(\n",
    "    documents=[\"This is a document\", \"This is another document\"],\n",
    "    metadatas=[{\"source\": \"my_source\"}, {\"source\": \"my_source\"}],\n",
    "    ids=[\"id1\", \"id2\"]\n",
    ")"
   ]
  },
  {
   "cell_type": "code",
   "execution_count": 7,
   "metadata": {},
   "outputs": [
    {
     "data": {
      "text/plain": [
       "{'ids': [['id1']],\n",
       " 'embeddings': None,\n",
       " 'documents': [['This is a document']],\n",
       " 'metadatas': [[{'source': 'my_source'}]],\n",
       " 'distances': [[0.0]]}"
      ]
     },
     "execution_count": 7,
     "metadata": {},
     "output_type": "execute_result"
    }
   ],
   "source": [
    "# 相似度查询\n",
    "collection.query(query_texts=[\"This is a document\"], n_results=1)"
   ]
  },
  {
   "cell_type": "code",
   "execution_count": 11,
   "metadata": {},
   "outputs": [
    {
     "data": {
      "text/plain": [
       "{'ids': [['id3']],\n",
       " 'embeddings': None,\n",
       " 'documents': [['王存是个好人']],\n",
       " 'metadatas': [[{'source': 'other'}]],\n",
       " 'distances': [[0.7229322195053101]]}"
      ]
     },
     "execution_count": 11,
     "metadata": {},
     "output_type": "execute_result"
    }
   ],
   "source": [
    "# collection.add(\n",
    "#     documents=[\"王存是个好人\", \"方朋可真行啊\"],\n",
    "#     metadatas=[{\"source\": \"other\"}, {\"source\": \"other\"}],\n",
    "#     ids=[\"id3\", \"id4\"]\n",
    "# )\n",
    "collection.query(query_texts=[\"谁是好人?\"], n_results=1)"
   ]
  },
  {
   "cell_type": "code",
   "execution_count": 13,
   "metadata": {},
   "outputs": [
    {
     "data": {
      "text/plain": [
       "[Collection(name=my_collection), Collection(name=my_collection_v2)]"
      ]
     },
     "execution_count": 13,
     "metadata": {},
     "output_type": "execute_result"
    }
   ],
   "source": [
    "chroma_client.get_or_create_collection(name='my_collection_v2')\n",
    "chroma_client.list_collections()"
   ]
  },
  {
   "cell_type": "code",
   "execution_count": 14,
   "metadata": {},
   "outputs": [
    {
     "data": {
      "text/plain": [
       "4"
      ]
     },
     "execution_count": 14,
     "metadata": {},
     "output_type": "execute_result"
    }
   ],
   "source": [
    "collection.count()"
   ]
  },
  {
   "cell_type": "code",
   "execution_count": 15,
   "metadata": {},
   "outputs": [],
   "source": [
    "collection.add(\n",
    "    ids=[\"id101\", \"id102\", \"id103\", \"id104\"],\n",
    "    metadatas=[{\"name\": \"101\"}, {\"name\": \"102\"}, {\"name\": \"103\"}, {\"name\": \"104\"}],\n",
    "    documents=[\"101进入教室开始上课\", \"出现了网络卡顿的问题，在102学生上\", \"打开摄像头进行调试103即可\", \"教室里看不到学生 104\"]\n",
    ")"
   ]
  },
  {
   "cell_type": "code",
   "execution_count": 16,
   "metadata": {},
   "outputs": [
    {
     "data": {
      "text/plain": [
       "8"
      ]
     },
     "execution_count": 16,
     "metadata": {},
     "output_type": "execute_result"
    }
   ],
   "source": [
    "collection.count()"
   ]
  },
  {
   "cell_type": "code",
   "execution_count": 20,
   "metadata": {},
   "outputs": [
    {
     "data": {
      "text/plain": [
       "{'ids': ['id103', 'id102'],\n",
       " 'embeddings': None,\n",
       " 'documents': ['打开摄像头进行调试103即可', '出现了网络卡顿的问题，在102学生上'],\n",
       " 'metadatas': [{'name': '103'}, {'name': '102'}]}"
      ]
     },
     "execution_count": 20,
     "metadata": {},
     "output_type": "execute_result"
    }
   ],
   "source": [
    "collection.get(ids=[\"id103\", \"id102\"], limit=3)"
   ]
  },
  {
   "cell_type": "code",
   "execution_count": 22,
   "metadata": {},
   "outputs": [
    {
     "data": {
      "text/plain": [
       "{'ids': ['id102'],\n",
       " 'embeddings': None,\n",
       " 'documents': ['出现了网络卡顿的问题，在102学生上'],\n",
       " 'metadatas': [{'name': '102'}]}"
      ]
     },
     "execution_count": 22,
     "metadata": {},
     "output_type": "execute_result"
    }
   ],
   "source": [
    "collection.get(where={\"name\": \"102\"}) # where filter metabases"
   ]
  },
  {
   "cell_type": "code",
   "execution_count": 23,
   "metadata": {},
   "outputs": [
    {
     "data": {
      "text/plain": [
       "{'ids': ['id101', 'id104'],\n",
       " 'embeddings': None,\n",
       " 'documents': ['101进入教室开始上课', '教室里看不到学生 104'],\n",
       " 'metadatas': [{'name': '101'}, {'name': '104'}]}"
      ]
     },
     "execution_count": 23,
     "metadata": {},
     "output_type": "execute_result"
    }
   ],
   "source": [
    "collection.get(where_document={\"$contains\": \"教室\"})"
   ]
  },
  {
   "cell_type": "code",
   "execution_count": null,
   "metadata": {},
   "outputs": [],
   "source": [
    "collection.peek(limit=3)\n",
    "# output\n",
    "# {'ids': ['id1', 'id2', 'id3'],\n",
    "#  'embeddings': [[-0.06602787971496582,\n",
    "#    0.17150495946407318,\n",
    "#    ..."
   ]
  },
  {
   "cell_type": "code",
   "execution_count": 35,
   "metadata": {},
   "outputs": [
    {
     "data": {
      "text/plain": [
       "{'ids': [['id101']],\n",
       " 'embeddings': None,\n",
       " 'documents': [['101进入教室开始上课']],\n",
       " 'metadatas': [[{'name': '101'}]],\n",
       " 'distances': [[1.0058444738388062]]}"
      ]
     },
     "execution_count": 35,
     "metadata": {},
     "output_type": "execute_result"
    }
   ],
   "source": [
    "collection.query(query_texts=[\"教室\"], n_results=2, where={'name': '101'}, include=['documents','metadatas','distances'])"
   ]
  },
  {
   "cell_type": "code",
   "execution_count": 36,
   "metadata": {},
   "outputs": [
    {
     "data": {
      "text/plain": [
       "{'ids': [['id103', 'id101']],\n",
       " 'embeddings': None,\n",
       " 'documents': [['打开摄像头进行调试103即可', '101进入教室开始上课']],\n",
       " 'metadatas': [[{'name': '103'}, {'name': '101'}]],\n",
       " 'distances': [[0.8989331722259521, 1.0058444738388062]]}"
      ]
     },
     "execution_count": 36,
     "metadata": {},
     "output_type": "execute_result"
    }
   ],
   "source": [
    "collection.query(query_texts=[\"教室\"], n_results=2)"
   ]
  },
  {
   "attachments": {},
   "cell_type": "markdown",
   "metadata": {},
   "source": [
    "## 关于向量查询解释\n",
    "\n",
    "对于上面的查询，我问GPT4给我一个解释：\n",
    "\n",
    "> 我的问题是:我在进行向量查询 “教室” 关键字时(`collection.query(query_texts=[\"教室\"], n_results=2)`), \n",
    "> 其中distances表示什么？ 为什么 我期望的 “教室里看不到学生 104” 没有匹配上？而“打开摄像头进行调试103即可” 匹配上了。\n",
    "\n",
    "GPT给的回答：\n",
    "\n",
    "> distances 字段代表查询向量与结果向量之间的距离。这个距离通常使用某种形式的距离度量（例如欧氏距离或余弦相似度）来计算。\n",
    "> 距离越小，表示查询向量与结果向量越相似，因此在大部分场景下，我们认为距离越小，查询的结果越相关。\n",
    "\n",
    "> 然后，你提到你期望的 \"教室里看不到学生 104\" 没有被匹配上，而 \"打开摄像头进行调试103即可\" 被匹配上了。\n",
    "> 这可能是因为你用来表示文档的向量模型（比如BERT，Word2Vec等）在生成 \"教室\" 这个词的向量表示时，与 \"打开摄像头进行调试103即可\" 这个文档的向量更接近。\n",
    "\n",
    "> 这可能是因为模型在学习过程中，找到了\"教室\"和\"打开摄像头进行调试\"之间的某种关联，比如它们都可能在某些上下文中关联到类似的主题或情境。而\"教室里看不到学生\"这个文档可能与模型学习到的\"教室\"的上下文关联性较低。\n",
    "\n",
    "> 需要注意的是，向量搜索是基于语义的，而不仅仅是基于关键词的。即使文档中并未直接出现查询的关键词，只要其语义上与查询的关键词接近，也可能被搜索到。\n",
    "\n",
    "> 此外，向量空间模型的效果很大程度上取决于训练数据和训练方法。如果你发现模型的表现不如预期，你可以尝试使用不同的模型，或者使用更多或更贴近你的实际需求的训练数据来训练模型。\n",
    "\n",
    "![](https://limbo.oss-cn-beijing.aliyuncs.com/wiki/202306281832436.png)"
   ]
  },
  {
   "cell_type": "code",
   "execution_count": 37,
   "metadata": {},
   "outputs": [
    {
     "data": {
      "text/plain": [
       "{'ids': [['id102', 'id101']],\n",
       " 'embeddings': None,\n",
       " 'documents': [['出现了网络卡顿的问题，在102学生上', '101进入教室开始上课']],\n",
       " 'metadatas': [[{'name': '102'}, {'name': '101'}]],\n",
       " 'distances': [[0.6690373420715332, 0.6732606887817383]]}"
      ]
     },
     "execution_count": 37,
     "metadata": {},
     "output_type": "execute_result"
    }
   ],
   "source": [
    "collection.query(query_texts=[\"上课过程中的各种问题\"], n_results=2)"
   ]
  },
  {
   "cell_type": "code",
   "execution_count": 38,
   "metadata": {},
   "outputs": [],
   "source": [
    "collection.update(ids=[\"id101\"], documents=[\"101进入教室开始上课啦\"], metadatas=[{\"name\": \"101111\"}])"
   ]
  },
  {
   "cell_type": "code",
   "execution_count": 39,
   "metadata": {},
   "outputs": [
    {
     "data": {
      "text/plain": [
       "{'ids': ['id101'],\n",
       " 'embeddings': None,\n",
       " 'documents': ['101进入教室开始上课啦'],\n",
       " 'metadatas': [{'name': '101111'}]}"
      ]
     },
     "execution_count": 39,
     "metadata": {},
     "output_type": "execute_result"
    }
   ],
   "source": [
    "collection.get(ids=['id101'])"
   ]
  },
  {
   "cell_type": "code",
   "execution_count": 40,
   "metadata": {},
   "outputs": [
    {
     "data": {
      "text/plain": [
       "{'ids': ['id101', 'id108'],\n",
       " 'embeddings': None,\n",
       " 'documents': ['101进入教室开始上课啦~', '108听不到老师说话'],\n",
       " 'metadatas': [{'name': '1011110', 'flag': 'test'},\n",
       "  {'name': '108', 'flag': 'test'}]}"
      ]
     },
     "execution_count": 40,
     "metadata": {},
     "output_type": "execute_result"
    }
   ],
   "source": [
    "collection.upsert(ids=[\"id101\"], documents=[\"101进入教室开始上课啦~\"], metadatas=[{\"name\": \"1011110\", 'flag': 'test'}])\n",
    "collection.upsert(ids=[\"id108\"], documents=[\"108听不到老师说话\"], metadatas=[{\"name\": \"108\", 'flag':'test'}])\n",
    "\n",
    "collection.get(where={'flag': 'test'})"
   ]
  },
  {
   "cell_type": "code",
   "execution_count": 41,
   "metadata": {},
   "outputs": [],
   "source": [
    "collection.delete(ids=[\"id108\"])"
   ]
  }
 ],
 "metadata": {
  "kernelspec": {
   "display_name": "venv",
   "language": "python",
   "name": "python3"
  },
  "language_info": {
   "codemirror_mode": {
    "name": "ipython",
    "version": 3
   },
   "file_extension": ".py",
   "mimetype": "text/x-python",
   "name": "python",
   "nbconvert_exporter": "python",
   "pygments_lexer": "ipython3",
   "version": "3.10.11"
  },
  "orig_nbformat": 4
 },
 "nbformat": 4,
 "nbformat_minor": 2
}
